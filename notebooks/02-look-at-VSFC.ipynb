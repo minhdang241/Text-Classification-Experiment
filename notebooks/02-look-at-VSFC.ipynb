{
 "cells": [
  {
   "cell_type": "code",
   "execution_count": 1,
   "id": "ce941268",
   "metadata": {},
   "outputs": [],
   "source": [
    "from pathlib import Path\n",
    "import pandas as pd"
   ]
  },
  {
   "cell_type": "code",
   "execution_count": 13,
   "id": "39cecf8a",
   "metadata": {},
   "outputs": [],
   "source": [
    "p = Path(\"./_UIT-VSFC\")"
   ]
  },
  {
   "cell_type": "code",
   "execution_count": 22,
   "id": "4968f4e3",
   "metadata": {},
   "outputs": [],
   "source": [
    "with open(p/\"train/sentiments.txt\") as f:\n",
    "    sentiments = f.read().splitlines()"
   ]
  },
  {
   "cell_type": "code",
   "execution_count": 20,
   "id": "2b0d6f63",
   "metadata": {},
   "outputs": [],
   "source": [
    "with open(p/\"train/sents.txt\") as f:\n",
    "    sents = f.read().splitlines()"
   ]
  },
  {
   "cell_type": "code",
   "execution_count": 23,
   "id": "de228bea",
   "metadata": {},
   "outputs": [
    {
     "data": {
      "text/plain": [
       "True"
      ]
     },
     "execution_count": 23,
     "metadata": {},
     "output_type": "execute_result"
    }
   ],
   "source": [
    "len(sents) == len(sentiments)"
   ]
  },
  {
   "cell_type": "code",
   "execution_count": 31,
   "id": "a0c93873",
   "metadata": {},
   "outputs": [],
   "source": [
    "folders = [\"train\", \"dev\", \"test\"]\n",
    "for folder in folders:\n",
    "    with open(p/f\"{folder}/sentiments.txt\") as f:\n",
    "        sentiments = f.read().splitlines()\n",
    "    with open(p/f\"{folder}/sents.txt\") as f:\n",
    "        sents = f.read().splitlines()\n",
    "    df = pd.DataFrame({\"sentences\": sents, \"labels\": sentiments})\n",
    "    df.to_csv(f\"./{folder}.csv\", index=False)"
   ]
  },
  {
   "cell_type": "code",
   "execution_count": 2,
   "id": "2b3d94ab",
   "metadata": {},
   "outputs": [],
   "source": [
    "df = pd.DataFrame({'name': ['Raphael', 'Donatello'],\n",
    "                   'mask': ['red', 'purple'],\n",
    "                   'weapon': ['sai', 'bo staff']})"
   ]
  },
  {
   "cell_type": "code",
   "execution_count": 4,
   "id": "d93e2eca",
   "metadata": {},
   "outputs": [
    {
     "data": {
      "text/plain": [
       "['Raphael', 'Donatello']"
      ]
     },
     "execution_count": 4,
     "metadata": {},
     "output_type": "execute_result"
    }
   ],
   "source": [
    "list(df['name'])"
   ]
  },
  {
   "cell_type": "code",
   "execution_count": 32,
   "id": "22b6add6",
   "metadata": {},
   "outputs": [],
   "source": [
    "df = pd.read_csv(\"./train.csv\", )"
   ]
  },
  {
   "cell_type": "code",
   "execution_count": 33,
   "id": "c106d1da",
   "metadata": {},
   "outputs": [
    {
     "data": {
      "text/html": [
       "<div>\n",
       "<style scoped>\n",
       "    .dataframe tbody tr th:only-of-type {\n",
       "        vertical-align: middle;\n",
       "    }\n",
       "\n",
       "    .dataframe tbody tr th {\n",
       "        vertical-align: top;\n",
       "    }\n",
       "\n",
       "    .dataframe thead th {\n",
       "        text-align: right;\n",
       "    }\n",
       "</style>\n",
       "<table border=\"1\" class=\"dataframe\">\n",
       "  <thead>\n",
       "    <tr style=\"text-align: right;\">\n",
       "      <th></th>\n",
       "      <th>sentences</th>\n",
       "      <th>labels</th>\n",
       "    </tr>\n",
       "  </thead>\n",
       "  <tbody>\n",
       "    <tr>\n",
       "      <th>0</th>\n",
       "      <td>slide giáo trình đầy đủ .</td>\n",
       "      <td>2</td>\n",
       "    </tr>\n",
       "    <tr>\n",
       "      <th>1</th>\n",
       "      <td>nhiệt tình giảng dạy , gần gũi với sinh viên .</td>\n",
       "      <td>2</td>\n",
       "    </tr>\n",
       "    <tr>\n",
       "      <th>2</th>\n",
       "      <td>đi học đầy đủ full điểm chuyên cần .</td>\n",
       "      <td>0</td>\n",
       "    </tr>\n",
       "    <tr>\n",
       "      <th>3</th>\n",
       "      <td>chưa áp dụng công nghệ thông tin và các thiết ...</td>\n",
       "      <td>0</td>\n",
       "    </tr>\n",
       "    <tr>\n",
       "      <th>4</th>\n",
       "      <td>thầy giảng bài hay , có nhiều bài tập ví dụ ng...</td>\n",
       "      <td>2</td>\n",
       "    </tr>\n",
       "    <tr>\n",
       "      <th>...</th>\n",
       "      <td>...</td>\n",
       "      <td>...</td>\n",
       "    </tr>\n",
       "    <tr>\n",
       "      <th>11421</th>\n",
       "      <td>chỉ vì môn game mà em học hai lần mà không qua...</td>\n",
       "      <td>0</td>\n",
       "    </tr>\n",
       "    <tr>\n",
       "      <th>11422</th>\n",
       "      <td>em cảm ơn cô nhiều .</td>\n",
       "      <td>2</td>\n",
       "    </tr>\n",
       "    <tr>\n",
       "      <th>11423</th>\n",
       "      <td>giao bài tập quá nhiều .</td>\n",
       "      <td>0</td>\n",
       "    </tr>\n",
       "    <tr>\n",
       "      <th>11424</th>\n",
       "      <td>giáo viên dạy dễ hiểu , nhiệt tình .</td>\n",
       "      <td>2</td>\n",
       "    </tr>\n",
       "    <tr>\n",
       "      <th>11425</th>\n",
       "      <td>gói gọn doubledot hay , tận tình , phù hợp với...</td>\n",
       "      <td>2</td>\n",
       "    </tr>\n",
       "  </tbody>\n",
       "</table>\n",
       "<p>11426 rows × 2 columns</p>\n",
       "</div>"
      ],
      "text/plain": [
       "                                               sentences  labels\n",
       "0                              slide giáo trình đầy đủ .       2\n",
       "1         nhiệt tình giảng dạy , gần gũi với sinh viên .       2\n",
       "2                   đi học đầy đủ full điểm chuyên cần .       0\n",
       "3      chưa áp dụng công nghệ thông tin và các thiết ...       0\n",
       "4      thầy giảng bài hay , có nhiều bài tập ví dụ ng...       2\n",
       "...                                                  ...     ...\n",
       "11421  chỉ vì môn game mà em học hai lần mà không qua...       0\n",
       "11422                               em cảm ơn cô nhiều .       2\n",
       "11423                           giao bài tập quá nhiều .       0\n",
       "11424               giáo viên dạy dễ hiểu , nhiệt tình .       2\n",
       "11425  gói gọn doubledot hay , tận tình , phù hợp với...       2\n",
       "\n",
       "[11426 rows x 2 columns]"
      ]
     },
     "execution_count": 33,
     "metadata": {},
     "output_type": "execute_result"
    }
   ],
   "source": [
    "df"
   ]
  },
  {
   "cell_type": "code",
   "execution_count": null,
   "id": "642808b8",
   "metadata": {},
   "outputs": [],
   "source": [
    "d_path = Path"
   ]
  }
 ],
 "metadata": {
  "kernelspec": {
   "display_name": "3.7",
   "language": "python",
   "name": "3.7"
  },
  "language_info": {
   "codemirror_mode": {
    "name": "ipython",
    "version": 3
   },
   "file_extension": ".py",
   "mimetype": "text/x-python",
   "name": "python",
   "nbconvert_exporter": "python",
   "pygments_lexer": "ipython3",
   "version": "3.7.10"
  }
 },
 "nbformat": 4,
 "nbformat_minor": 5
}
