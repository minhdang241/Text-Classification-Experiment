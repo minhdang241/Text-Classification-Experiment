{
 "cells": [
  {
   "cell_type": "code",
   "execution_count": 1,
   "metadata": {},
   "outputs": [],
   "source": [
    "from torchtext.datasets import IMDB as TorchIMDB"
   ]
  },
  {
   "cell_type": "code",
   "execution_count": 66,
   "metadata": {},
   "outputs": [],
   "source": [
    "import torchtext"
   ]
  },
  {
   "cell_type": "code",
   "execution_count": 76,
   "metadata": {},
   "outputs": [],
   "source": [
    "train, test = TorchIMDB(\"/Users/minhdang/Desktop/Text Classification/data/downloaded/imdb\", split=(\"train\", \"test\"))"
   ]
  },
  {
   "cell_type": "code",
   "execution_count": 77,
   "metadata": {},
   "outputs": [],
   "source": [
    "import random\n",
    "import pandas as pd\n",
    "from IPython.display import display, HTML\n",
    "\n",
    "def show_random_elements(dataset, columns, num_examples=10):\n",
    "    assert num_examples <= len(dataset), \"Can't pick more elements than there are in the dataset.\"\n",
    "    picks = []\n",
    "    dataset = list(dataset)\n",
    "    for _ in range(num_examples):\n",
    "        pick = random.randint(0, len(dataset)-1)\n",
    "        while pick in picks:\n",
    "            pick = random.randint(0, len(dataset)-1)\n",
    "        picks.append(pick)\n",
    "    data = [dataset[idx] for idx in picks]\n",
    "    df = pd.DataFrame(data, columns=columns)\n",
    "    display(HTML(df.to_html()))"
   ]
  },
  {
   "cell_type": "code",
   "execution_count": 78,
   "metadata": {},
   "outputs": [
    {
     "data": {
      "text/html": [
       "<table border=\"1\" class=\"dataframe\">\n",
       "  <thead>\n",
       "    <tr style=\"text-align: right;\">\n",
       "      <th></th>\n",
       "      <th>sentence</th>\n",
       "      <th>label</th>\n",
       "    </tr>\n",
       "  </thead>\n",
       "  <tbody>\n",
       "    <tr>\n",
       "      <th>0</th>\n",
       "      <td>neg</td>\n",
       "      <td>Six different couples. Six different love stories. Six different love angles. Eighty numbers of audience in the movie theater. Looking at the eighty different parts of the silver screen.&lt;br /&gt;&lt;br /&gt;I am sitting in somewhere between them looking at the center of the screen to find out what's going on in the movie. All stories have got no link with each other, but somewhere down the line Nikhil Advani trying to show some relation between them. I tried to find out a few lines I could write as review but at the end of 3 hours 15 minutes found nothing to write. The movie is a poor copy of Hollywood blockbuster LOVE ACTUALLY.&lt;br /&gt;&lt;br /&gt;My suggestion. Don't watch the movie if you really want to watch a nice movie.</td>\n",
       "    </tr>\n",
       "    <tr>\n",
       "      <th>1</th>\n",
       "      <td>pos</td>\n",
       "      <td>Such a film of beauty that it's hard to describe. Maybe it's the absence of superfluous dialogue, or maybe it's the absolutely stellar soundtrack, or maybe it's just Meena Mumari's feet, but it's a joy to watch this movie again and again. I've never seen another Indian movie that comes close to it, and few from any country rival its perfection.</td>\n",
       "    </tr>\n",
       "    <tr>\n",
       "      <th>2</th>\n",
       "      <td>neg</td>\n",
       "      <td>Back when I was a kid and I lived with my sister, she bought every horror movie she could find and this was one of them. VCR'S had just became a household item and we didn't have but about 150 movies and we watched the hell out of all of them.&lt;br /&gt;&lt;br /&gt;I was at a yard sale the other day and I saw this VHS copy of BLOOD LEGACY and I buy any horror movie I don't have and I knew this movie looked familiar. I thought for a second and realized it was one that my sister had bought. She had sold it years ago in a yard sale I am guessing - who knows.&lt;br /&gt;&lt;br /&gt;I didn't recall anything at all about it and I watched it the night I bought it and it refreshed my memory because of a few scenes. I am not sure how I felt about it as a kid but I am sure I enjoyed it because it was new to me and I'd watch and enjoy anything back then.&lt;br /&gt;&lt;br /&gt;I am a horror freak, but there are certain requirements in order for me to consider it \"good\" and this one fell very short. It was one of those talk talk talk and bore me to death types. What death scenes you see are done using the shadow on the wall followed by blood splatter and thats if you're lucky you get that much.&lt;br /&gt;&lt;br /&gt;The story is good and I have seen a few with similar plots, so I think this one should be buried and forgotten. Don't watch this people unless you're hard up.</td>\n",
       "    </tr>\n",
       "    <tr>\n",
       "      <th>3</th>\n",
       "      <td>pos</td>\n",
       "      <td>A compelling, honest, daring, and unforgettable psychological horror film that touches on the painful experiences of pain caused by rape - \"Descent\" is a film that went under-the-radar due to its lack of distribution because, frankly, the film is so brutal in its depictions, that if it had been released theatrically, it may have met itself to some strong biased hate.&lt;br /&gt;&lt;br /&gt;The film deserves to be discovered for, not only its dark themes, and not only for its amazing direction and authentic style - but most of all for its performances. Chad Faust is absolutely stunning, bringing enough sickness and enough vulnerability to make one, not relate to, but understand this fractured man with a twisted perspective on his sexuality with not only the women he rapes, but also the fragile insecurities deep within his own self. It's a supporting performance that is so complex, brave, and emotional on Faust's part. And hard to forget.&lt;br /&gt;&lt;br /&gt;However, the standout is Rosario Dawson, whose performance here is an absolute revelation. A tour-de-force of realistic dramatic tics, and one of the most subtle, yet loud-as-can-be performances in quite some time. While Dawson is seen in some good supporting performances in some great-to-bad films, she proves here she has what it takes to deliver some emotionally sweeping and moving performances, believably and thematically.&lt;br /&gt;&lt;br /&gt;One of the best films of its year (and 2007 was a strong one) - had this underrated and intelligent film hit theatrical release, I would be screaming praises for it, as well as Dawson and Faust. Too bad it was way too blunt for a widespread appeal. Films like this deserve better!</td>\n",
       "    </tr>\n",
       "    <tr>\n",
       "      <th>4</th>\n",
       "      <td>neg</td>\n",
       "      <td>There's a lot the matter with Helen and none of it's good. Shelley Winters and Debbie Reynolds play mothers of a pair of Leopold &amp; Loeb like killers who move from the mid-west to Hollywood to escape their past. Reynolds, a starstruck Jean Harlow wannabe, opens a dance studio for children and Winters is her piano player. Soon Winters (as Helen) begins to crack up. It's all very slow going and although there are moments of real creepiness (nasty phone calls, a visit from wino Timothy Carey), the movie is devoid of any real horror. Nevertheless, it's still worthy entertainment. The acting divas are fine and the production values are terrific. A music score by David Raskin, cinematography by Lucien Ballard and Oscar-nominated costumes contribute mightily. With this, A PLACE IN THE SUN and LOLITA to her credit, does anyone do crazy as well as Winters? Directed by Curtis Harrington, a master at this type of not quite A-movie exploitation. In addition to Carey, the oddball supporting cast includes Dennis Weaver, Agnes Moorehead (as a very Aimee Semple McPherson like evangelist), Yvette Vickers and Micheál MacLiammóir (the Irish Orson Welles) as Hamilton Starr, aptly nicknamed hammy.</td>\n",
       "    </tr>\n",
       "    <tr>\n",
       "      <th>5</th>\n",
       "      <td>pos</td>\n",
       "      <td>What are the odds of a \"Mermaid\" helium balloon traveling from Yuba City, Ca.(on Nov 8th,1993) and landing 4 Days later,(on Nov. 12) in MERMAID, Prince Edward Island, Canada.(Approx. 4000 miles). This is a great movie. It is based on a true story. This movie helps not only children cope with losses, but older people as well. Hope everyone will enjoy it!!! Rhonda</td>\n",
       "    </tr>\n",
       "    <tr>\n",
       "      <th>6</th>\n",
       "      <td>neg</td>\n",
       "      <td>Unentertaining, uninvolving hybrid of \"Cruel Intentions\" and \"Wild Things\", but it isn't nearly as good as either of those trash min-classics. It's about the acting sheriff, Artie (Taye Diggs) being called in to investigate a near-fatal drug overdose at a posh upper-class Univesity, but to keep it on the down low. As he digs deeper he thinks it's much more than it at first glance seems to be. We follow Alicia, the girl who overdosed in flashbacks as well. At about 90 minutes, if this film was welcomed to begin with, it would have worn it out. This film brings absolutely nothing new to the table. But it IS the only movie thus far that has Miss Swain topless so the grade is higher just for that.&lt;br /&gt;&lt;br /&gt;My Grade: D&lt;br /&gt;&lt;br /&gt;Eye Candy: Dominique Swain gets topless( fixing a mistake of \"Happy Campers\"); another girl is topless &lt;br /&gt;&lt;br /&gt;Anti-Eye candy: more men ass than girl tit</td>\n",
       "    </tr>\n",
       "    <tr>\n",
       "      <th>7</th>\n",
       "      <td>pos</td>\n",
       "      <td>\"Le Locataire\"(\"The Tenant\")is without a doubt one of the most important horror movies ever made.Polanski stars as a Trelkovsky,a timid file clerk living in Paris,who answers an advertisement for an apartment,only to find that the previous tenant attempted suicide by leaping from the apartment window.Trelkovsky is compelled to visit her in the hospital and there he meets Stella(Isabelle Adjani).Trelkovsky immediately moves in when the previous tenant dies and,at first,is quite pleased with having found such a nice apartment.His happiness is soon replaced by waves of paranoia as he becomes increasingly suspicious of his neighbours,who seem to be trying to provoke Trelkovsky into repeating the previous tenant's suicide.This film is great.Polanski manages to create a surreal atmosphere of dread and paranoia.Plenty of brilliant moments such as the classic scene where Trelkovsky discovers the previous tenant's tooth in a hole in the wall,or the fever dream where he wanders into the building's bathroom to find the walls covered with hieroglyphics.The photography by Sven Nykvist is truly beautiful.\"The Tenant\" is a neglected gem.It may be difficult to track down,but it is more than worth the effort.</td>\n",
       "    </tr>\n",
       "    <tr>\n",
       "      <th>8</th>\n",
       "      <td>pos</td>\n",
       "      <td>You've never seen anything like it. Once the coup begins, it's the most dazzling, edge-of-your-seat thriller you'll ever see -- even though you know the outcome. And it's all real, because it's a documentary -- amazing. &lt;br /&gt;&lt;br /&gt;By the time it was over, it was on my Top 10 list of All Time Great Movies.&lt;br /&gt;&lt;br /&gt;Disregard the slobbering right-wing fanatics. Everyone I know who has seen this film gives it the 4-star rating. Even if you don't care about politics or about Venezuelan politics, you will find yourself nerve-racked and -- believe it -- on the edge of your seat.&lt;br /&gt;&lt;br /&gt;It's a roller-coaster ride.</td>\n",
       "    </tr>\n",
       "    <tr>\n",
       "      <th>9</th>\n",
       "      <td>neg</td>\n",
       "      <td>The plot is plausible but banal, i.e., beautiful and neglected wife of wealthy and powerful man has a fling with a psychotic hunk, then tries to cover it up as the psycho stalks and blackmails her. But, what develops from there is stupefyingly illogical. Despite the resources that are available to the usual couple who has money and influence, our privileged hero and heroine appear to have only one domestic, their attorney and local police (who say they can do nothing) at their disposal while they grapple with suspense and terror. They have no private security staff (only a fancy security system that they mishandle), household or grounds staff, chauffeurs, etc. Not even, apparently, the funds to hire private round-the-clock nurses to care for the hero when he suffers life-threatening injuries, leaving man and wife alone and vulnerable in their mansion. Our heroine is portrayed as having the brains of a doorknob and our hero, a tycoon, behaves in the most unlikely and irrational manner. The production is an insult to viewers who wasted their time with this drivel and a crime for having wasted the talents of veteran actors Oliva Hussey and Don Murray (what were they thinking?). And, shame on Lifetime TV for insulting the intelligence of its audience for this insipid offering.</td>\n",
       "    </tr>\n",
       "  </tbody>\n",
       "</table>"
      ],
      "text/plain": [
       "<IPython.core.display.HTML object>"
      ]
     },
     "metadata": {},
     "output_type": "display_data"
    }
   ],
   "source": [
    "show_random_elements(train, [\"sentence\", \"label\"])"
   ]
  },
  {
   "cell_type": "code",
   "execution_count": 1,
   "metadata": {},
   "outputs": [],
   "source": [
    "import sys\n",
    "sys.path.append('/Users/minhdang/Desktop/Text Classification')"
   ]
  },
  {
   "cell_type": "code",
   "execution_count": 2,
   "metadata": {},
   "outputs": [],
   "source": [
    "from text_classifier.data.imdb import IMDB"
   ]
  },
  {
   "cell_type": "code",
   "execution_count": 3,
   "metadata": {},
   "outputs": [
    {
     "name": "stdout",
     "output_type": "stream",
     "text": [
      "25000\n",
      "IMDB Dataset\n",
      "Num classes: 2\n",
      "Mapping: {'neg': 0, 'pos': 1}\n",
      "Train/val/test sizes: (20000, 5000, 25000)\n"
     ]
    }
   ],
   "source": [
    "data = IMDB()\n",
    "data.prepare_data()\n",
    "data.setup(\"distilbert-base-uncased\")\n",
    "print(data)"
   ]
  },
  {
   "cell_type": "code",
   "execution_count": 9,
   "metadata": {},
   "outputs": [],
   "source": [
    "batch = next(iter(data.train_dataloader()))"
   ]
  },
  {
   "cell_type": "code",
   "execution_count": 10,
   "metadata": {},
   "outputs": [
    {
     "data": {
      "text/plain": [
       "{'input_ids': tensor([[  101,  2011,  2521,  ...,     0,     0,     0],\n",
       "         [  101, 26114,  2213,  ...,     0,     0,     0],\n",
       "         [  101, 20848,  7756,  ...,     0,     0,     0],\n",
       "         ...,\n",
       "         [  101,  2048,  2214,  ...,     0,     0,     0],\n",
       "         [  101,  1000,  7006,  ...,  1005,  1056,   102],\n",
       "         [  101,  2345,  3556,  ..., 11065,  2013,   102]]),\n",
       " 'attention_mask': tensor([[1, 1, 1,  ..., 0, 0, 0],\n",
       "         [1, 1, 1,  ..., 0, 0, 0],\n",
       "         [1, 1, 1,  ..., 0, 0, 0],\n",
       "         ...,\n",
       "         [1, 1, 1,  ..., 0, 0, 0],\n",
       "         [1, 1, 1,  ..., 1, 1, 1],\n",
       "         [1, 1, 1,  ..., 1, 1, 1]]),\n",
       " 'labels': tensor([0, 0, 0, 0, 0, 0, 1, 1, 1, 1, 0, 0, 1, 1, 0, 1, 0, 1, 0, 1, 1, 0, 1, 1,\n",
       "         0, 0, 1, 1, 0, 1, 1, 0, 0, 0, 1, 1, 0, 0, 0, 0, 0, 0, 1, 1, 1, 1, 1, 0,\n",
       "         0, 0, 0, 1, 1, 1, 1, 0, 0, 1, 1, 1, 0, 0, 0, 1, 0, 0, 0, 0, 1, 0, 0, 0,\n",
       "         1, 0, 1, 0, 0, 1, 0, 0, 1, 1, 0, 0, 0, 1, 0, 1, 1, 1, 1, 0, 0, 0, 0, 0,\n",
       "         1, 1, 0, 0, 0, 1, 0, 0, 1, 1, 0, 1, 1, 1, 1, 1, 1, 1, 1, 0, 1, 0, 0, 0,\n",
       "         1, 0, 0, 1, 0, 0, 1, 0])}"
      ]
     },
     "execution_count": 10,
     "metadata": {},
     "output_type": "execute_result"
    }
   ],
   "source": [
    "batch"
   ]
  },
  {
   "cell_type": "code",
   "execution_count": null,
   "metadata": {},
   "outputs": [],
   "source": []
  }
 ],
 "metadata": {
  "kernelspec": {
   "display_name": "Python 3",
   "language": "python",
   "name": "python3"
  },
  "language_info": {
   "codemirror_mode": {
    "name": "ipython",
    "version": 3
   },
   "file_extension": ".py",
   "mimetype": "text/x-python",
   "name": "python",
   "nbconvert_exporter": "python",
   "pygments_lexer": "ipython3",
   "version": "3.6.13"
  }
 },
 "nbformat": 4,
 "nbformat_minor": 2
}
