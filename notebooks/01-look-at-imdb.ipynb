{
 "cells": [
  {
   "cell_type": "code",
   "execution_count": 1,
   "metadata": {},
   "outputs": [],
   "source": [
    "from torchtext.datasets import IMDB as TorchIMDB"
   ]
  },
  {
   "cell_type": "code",
   "execution_count": 2,
   "metadata": {},
   "outputs": [],
   "source": [
    "import torchtext"
   ]
  },
  {
   "cell_type": "code",
   "execution_count": 3,
   "metadata": {},
   "outputs": [],
   "source": [
    "train, test = TorchIMDB(\"/home/minhdang/Desktop/Text-Classification-Experiment/data/downloaded​/imdb\", split=(\"train\", \"test\"))"
   ]
  },
  {
   "cell_type": "code",
   "execution_count": null,
   "metadata": {},
   "outputs": [],
   "source": [
    "!pip install pandas"
   ]
  },
  {
   "cell_type": "code",
   "execution_count": 4,
   "metadata": {},
   "outputs": [],
   "source": [
    "import random\n",
    "import pandas as pd\n",
    "from IPython.display import display, HTML\n",
    "\n",
    "def show_random_elements(dataset, columns, num_examples=10):\n",
    "    assert num_examples <= len(dataset), \"Can't pick more elements than there are in the dataset.\"\n",
    "    picks = []\n",
    "    dataset = list(dataset)\n",
    "    for _ in range(num_examples):\n",
    "        pick = random.randint(0, len(dataset)-1)\n",
    "        while pick in picks:\n",
    "            pick = random.randint(0, len(dataset)-1)\n",
    "        picks.append(pick)\n",
    "    data = [dataset[idx] for idx in picks]\n",
    "    df = pd.DataFrame(data, columns=columns)\n",
    "    display(HTML(df.to_html()))"
   ]
  },
  {
   "cell_type": "code",
   "execution_count": 5,
   "metadata": {},
   "outputs": [
    {
     "data": {
      "text/html": [
       "<table border=\"1\" class=\"dataframe\">\n",
       "  <thead>\n",
       "    <tr style=\"text-align: right;\">\n",
       "      <th></th>\n",
       "      <th>label</th>\n",
       "      <th>sentence</th>\n",
       "    </tr>\n",
       "  </thead>\n",
       "  <tbody>\n",
       "    <tr>\n",
       "      <th>0</th>\n",
       "      <td>pos</td>\n",
       "      <td>Besides Planes, Trains and Automobiles and Uncle Buck, this is John Candy's funniest movie. When he gets hypnotized with the playing card (similar to the Manchurian Candidate) and becomes a horny guy who does not know what he is saying, he makes two very memorable quotes (Both deal with the male anatomy). The love scene involving grocery items has to be seen, it cannot be described.&lt;br /&gt;&lt;br /&gt;</td>\n",
       "    </tr>\n",
       "    <tr>\n",
       "      <th>1</th>\n",
       "      <td>pos</td>\n",
       "      <td>I've read many negative reviews of this movie and finally got a chance to see it on DVD. To be honest I really don't know what the problem with it is.&lt;br /&gt;&lt;br /&gt;It's a decent murder mystery thriller, shown from various points of view, from an eccentric cast of often drugged out potential killers/suspects, including the late porn king, John Holmes. Please read the plot synopsis for the exact details of the movie's plot - I wish to contribute more to a review than a synopsis.&lt;br /&gt;&lt;br /&gt;Many reviewers went so far to give this movie their lowest rating due to violence but I really don't see it. MANY modern movies were worse - Saving Private Ryan was ultimately more violent than this movie, which often relies on implied blood stains than actual brutal slayings (the murders depicted in this film were done with lead pipes, afterall).&lt;br /&gt;&lt;br /&gt;I was enthralled with both halves of the movie - the first showing John Holmes as a hopeless cash hungry drug addict, and the second half showing his side as a minor conspirator in a senseless bloodbath. The movie has excellent acting, even though Dylan McDemorant looks more than a bit out of place in his biker-esque personia and goatee'ed bad boy personality.&lt;br /&gt;&lt;br /&gt;The soundtrack was also awesome - a fantastic mix of 70's B-side rock and obscure pop, spread out over a couple of hours in all the right places ala Boogie Nights.</td>\n",
       "    </tr>\n",
       "    <tr>\n",
       "      <th>2</th>\n",
       "      <td>neg</td>\n",
       "      <td>As usual, i went to watch this movie for A.R.Rahman. Otherwise, the film is no good. Rajni wanted to end his movie career with this film is it would be successful. But fortunately or unfortunately the film was a failure. After this he delivered a hit with Chandramukhi. I Am eagerly waiting for his forth coming Shivaji.&lt;br /&gt;&lt;br /&gt;I have read the other user's comment on Rajni. I found it interesting as the user is from TN too. Rajni is one actor who acts, i think, from his heart not from his mind. He is not a method actor like Kamal Hasan. I think we need to appreciate Rajni for his strong going at his age.&lt;br /&gt;&lt;br /&gt;Any ways, i need to fill 10 lines for this comment... so wish u good luck Rajni...........</td>\n",
       "    </tr>\n",
       "    <tr>\n",
       "      <th>3</th>\n",
       "      <td>pos</td>\n",
       "      <td>This is a film.., not porn.&lt;br /&gt;&lt;br /&gt;This is a wonderful film!!! Full of tender moments and memories!! A beautiful piece of work!!! Excellent!!! For intelligent, viewers only!!!&lt;br /&gt;&lt;br /&gt;If you are a film lover. A romantic. A person who has loved deeply, this is your film!!!!&lt;br /&gt;&lt;br /&gt;It has a beautiful surreal quality. Fine acting and directing. Watching this film made me remember my first love.&lt;br /&gt;&lt;br /&gt;Thi is a film for those who want to reflect on life, love and the meaning of loss.&lt;br /&gt;&lt;br /&gt;Highly recommended for all film lovers.</td>\n",
       "    </tr>\n",
       "    <tr>\n",
       "      <th>4</th>\n",
       "      <td>neg</td>\n",
       "      <td>If you have read the book - do not set your hopes high, if you have not - go read it, and never watch the film. It is strange to learn that Toby Young was actually involved a lot in the writing of the script (as he claims himself in the post script of the book). Because the film is very different from the book.&lt;br /&gt;&lt;br /&gt;What the film seems to be aiming at - taking a rather thought provoking and entertaining piece that combines philosophical ideas with plain funny sarcasm and simplifying it so that everyone would understand it - it achieves with perfection. The film is full of bad and cheap jokes suitable for a sitcoms, and has lost any meaningful message that it could have had.&lt;br /&gt;&lt;br /&gt;You are better off not seeing it.</td>\n",
       "    </tr>\n",
       "    <tr>\n",
       "      <th>5</th>\n",
       "      <td>neg</td>\n",
       "      <td>I had the displeasure of watching this movie with my girlfriend, who, like me, is a fan of the first. This movie down right sucked! It lacked the magic of the first. You could actually understand every word the mice said, the animation is crappy, the palace is much much different from the first movie, there's new characters that were never mentioned before and were terrible, luckily the Prince didn't have many lines which kept him from sounding stupid. Basically its like The Lion King 1 1/2 except its different stories all told by the mice. The reason I'm giving this a 2 out of 10 is because the songs not sung by the characters were the most enjoyable.</td>\n",
       "    </tr>\n",
       "    <tr>\n",
       "      <th>6</th>\n",
       "      <td>pos</td>\n",
       "      <td>So i consider myself pretty big into the anime scene, with very few shows i simply WILL NOT WATCH.&lt;br /&gt;&lt;br /&gt;this show, however, i would recommend to anyone.&lt;br /&gt;&lt;br /&gt;Quite possibly the most Original series to date, it;s got just about everything i could ask for. A side story, so to speak, about an unconditional love that will NOT be admitted to, a very blatant comedy, and a very well put together voice acting cast (both Japanese and American translation).&lt;br /&gt;&lt;br /&gt;If not for the terribly funny aspect to it, it would be, just another anime.&lt;br /&gt;&lt;br /&gt;More or less, as i have noticed, a 'love it or hate it', very few people i have seen introduced to this series will end up with a distaste for it.&lt;br /&gt;&lt;br /&gt;Original to the core, with everything you could ask for in an afternoon, bet the house on this series. I'm ready to ASSURE you that you will enjoy it.</td>\n",
       "    </tr>\n",
       "    <tr>\n",
       "      <th>7</th>\n",
       "      <td>pos</td>\n",
       "      <td>This movie is about sexual obsession. Bette Davis plays Mildred. This is a woman who men are drawn to. Not because she is a nice beautiful girl but because she is a sexual entity. Now the movie does not come out and say that but it is obvious. There is a scene in the movie in which men are all going googly eyes over her. She works as a waitress in a coffee shop, she can't read and she not really anybody to look at but she is a flirt. It is obvious the male customers in that coffee shop are there because of her. One day Phillip a club footed failed painter medical student comes in the shop to say a good word for his friend but he becomes besotted the moment he sees her. He starts buying her things even pays for her apartment. Meanwhile she is seeing other people and she makes no secrets of it. He dreams about her like she is a angel, but she is no angel. He is constantly thinking about her. His med school grades are even failing. So what the nookie is too good. He wants to marry her but she rejects him because she is marrying another guy. She always lets Phil know she really doesn't have love feelings for him all of time. He is heart broken but he meets another woman. They seem fine but it is obvious he is still dreaming of the Bimbo. Mildred does comes back with a baby and unwed. Phillip takes her in again, but she starts going out with a friend of his, the light bulb comes on a little and he kicks her out. She does what she knows works so she tries to seduce him, well it doesn't work and she proceeds to burn his tuition money up. Oh we have a club foot that he has problems about, even though a street teenager who has the same problem tells him to lighten up about it. He meets another girl named Sally we have a March of time montage which shows her aging while he strings her along still waiting for Mildred. Well he has no school tuition, can't find a job. Finally Sally and her dad takes him in. Not before another March of Time montage showing him going downhill. Soon his uncle who raised him dies and he gets money to become a doctor. Meanwhile he finds Mildred needs him again. She has TB. meanwhile he is still leading Sally down the Primrose path about marriage and he takes a job on a steamship. Finally the bimbo dies and Phillip declares he is free now and he will marry Sally. I wished she told him to stuff it. Now I know my take on the characters are not going to get me any points. But I feel Phillip was the bad guy. Yes Mildred is a Strumpet BUT he knows it, and he keeps coming back. Mean while he has two other girlfriends who love him but he treats as appetizers. I guess the sex wasn't as good. But in any case he dogs those women waiting for Mildred. Not only that but the man who gets Mildred pregnant is already married and when Philip asks him what he intends to do about Baby ( apparently the baby's name) he laughs is off, he has no intention in supporting her and Baby and he is wealthy. Sally's father who has 9 children say some pretty nasty things about women but he is said to be a old traditionalist. Philip doesn't seem to refute his feelings either. Men are using Mildred as a Boy Toy but the men in this movie come out as unscathed. Yes she was not a respectable woman but far from a villain. To me it is Philip who was had the real problem and it was his sexual obsession for Mildred.</td>\n",
       "    </tr>\n",
       "    <tr>\n",
       "      <th>8</th>\n",
       "      <td>neg</td>\n",
       "      <td>First of all, I firmly believe that Norwegian movies are continually getting better. From the tedious emotional films of the 70's and 80's, movies from this place actually started to contain a bit of humour. Imagine.. Actual comedies were made! Movies were actually starting to get entertaining and funny, as opposed to long, dark, depressing and boring.&lt;br /&gt;&lt;br /&gt;During the 90's and 00's several really great movies were made by a 'new generation' of filmmakers. Movie after movie were praised by critics and played loads of money. It became the norm!&lt;br /&gt;&lt;br /&gt;Then came United...&lt;br /&gt;&lt;br /&gt;*MINOR SPOILERS* It's just simply not funny. Not once. Not ever. But the thing is... We THINK its funny. Because we're used to norwegian movies to be funny. Especially with a cast like this with a few really funny comedians. But.. They neither say nor do anything funny! Where's the humor? Show me the humor! Is it the awkward clerk played by Harald Eia? Is it the overacting totally ridiculously unrealistic football coach? Is it the commentaries by Arne Scheie? The movie is just not funny!&lt;br /&gt;&lt;br /&gt;But thats not my main rant about United. That namely is the predictability. (And it is here I fear that norwegian comedies have come to a standstill since I have seen this in many other movies as well.) All the time you just know its going to end well. All characters are exactly as they are presented in the start of the movie, and everybody gets exactly what they deserve in the end. There's absolutely no room for surprises at all!&lt;br /&gt;&lt;br /&gt;All in all I can say that I sat with a bad feeling after seeing this movie. It was the one movie that made me realize that we probably need some new blood in norwegian movie making... again!&lt;br /&gt;&lt;br /&gt;Rating: 1/6</td>\n",
       "    </tr>\n",
       "    <tr>\n",
       "      <th>9</th>\n",
       "      <td>pos</td>\n",
       "      <td>I am a Jane Eyre lover and a purist, and this version includes almost all of the important details of the book, and the characters are portrayed as I imagined them. Jane Eyre is a complex story of great richness and can't be delivered properly in a feature-length format, so it needs a TV mini-series. Timothy Dalton's Rochester is probably the best ever. There has been a lot of discussion about how attractive he is and his age. In the book, Jane (the narrator) describes him as \"about 35\" and not young, but not yet middle aged. I think Timothy Dalton was about 38 when he made this, so that is about right. Also, we only have Jane's opinion of whether Rochester is handsome. She only just met him and he asks her bluntly what she thinks. As an inexperienced and humble girl, I can't imagine her saying she did think him handsome. The actor playing Rochester needs to show us the character of the man, and this is fulfilled to perfection. I love the relationship between the two leads, which is the crucial thing about this story, and the humour of their encounters. Other versions have blown it, but this gets it right. The 2006 version with Toby Stephens (aged 37 years) is in progress on BBC1 and is very good indeed, so I will decide whether that is my favourite when it is completed.&lt;br /&gt;&lt;br /&gt;On viewing this series again, after watching the 2006 version, I have decided that this version with Timothy Dalton and Zelah Clark is the best! Charlotte Bronte's dialogue is preserved and this is essential to the power of the story. Modernisation just doesn't work - it's a Victorian story and having archaic poetic speech suits the characters. This version has an excellent cast - Zelah Clark is tiny and the difference in height between her and Rochester is important; Timothy Dalton has real presence and is an amazing actor. There are no extra scenes to divert from the plot and the screenplay includes all the essential scenes, but leaves out unnecessary details, making it to the point and gripping. I recommend it to all true Jane Eyre fans.</td>\n",
       "    </tr>\n",
       "  </tbody>\n",
       "</table>"
      ],
      "text/plain": [
       "<IPython.core.display.HTML object>"
      ]
     },
     "metadata": {},
     "output_type": "display_data"
    }
   ],
   "source": [
    "show_random_elements(train, [\"label\", \"sentence\"])"
   ]
  },
  {
   "cell_type": "code",
   "execution_count": 5,
   "metadata": {},
   "outputs": [],
   "source": [
    "import sys\n",
    "sys.path.append('/home/minhdang/Desktop/Text-Classification-Experiment')"
   ]
  },
  {
   "cell_type": "code",
   "execution_count": 7,
   "metadata": {},
   "outputs": [],
   "source": [
    "from text_classifier.data.imdb import IMDBTransformer"
   ]
  },
  {
   "cell_type": "code",
   "execution_count": 8,
   "metadata": {},
   "outputs": [
    {
     "name": "stdout",
     "output_type": "stream",
     "text": [
      "IMDB Dataset\n",
      "Num classes: 2\n",
      "Mapping: {'neg': 0, 'pos': 1}\n",
      "Train/val/test sizes: (20000, 5000, 25000)\n"
     ]
    }
   ],
   "source": [
    "data = IMDBTransformer(model_checkpoint=\"distilbert-base-uncased\")\n",
    "data.prepare_data()\n",
    "data.setup()\n",
    "print(data)"
   ]
  },
  {
   "cell_type": "code",
   "execution_count": null,
   "metadata": {},
   "outputs": [],
   "source": [
    "batch = next(iter(data.train_dataloader()))"
   ]
  },
  {
   "cell_type": "code",
   "execution_count": null,
   "metadata": {},
   "outputs": [],
   "source": [
    "batch"
   ]
  },
  {
   "cell_type": "code",
   "execution_count": 9,
   "metadata": {},
   "outputs": [],
   "source": [
    "batch = next(iter(data.train_dataloader()))"
   ]
  },
  {
   "cell_type": "code",
   "execution_count": 10,
   "metadata": {},
   "outputs": [
    {
     "data": {
      "text/plain": [
       "{'input_ids': tensor([[  101,  1000,  2120,  ...,     0,     0,     0],\n",
       "         [  101,  1996,  7577,  ...,  1028,  1026,   102],\n",
       "         [  101,  1045,  3427,  ...,  1037,  2843,   102],\n",
       "         ...,\n",
       "         [  101, 17160,  2664,  ...,     0,     0,     0],\n",
       "         [  101,  2023,  3185,  ...,     0,     0,     0],\n",
       "         [  101,  7823,  4364,  ...,     0,     0,     0]]),\n",
       " 'attention_mask': tensor([[1, 1, 1,  ..., 0, 0, 0],\n",
       "         [1, 1, 1,  ..., 1, 1, 1],\n",
       "         [1, 1, 1,  ..., 1, 1, 1],\n",
       "         ...,\n",
       "         [1, 1, 1,  ..., 0, 0, 0],\n",
       "         [1, 1, 1,  ..., 0, 0, 0],\n",
       "         [1, 1, 1,  ..., 0, 0, 0]]),\n",
       " 'labels': tensor([0, 1, 0, 1, 1, 0, 0, 0, 0, 1, 0, 0, 0, 1, 1, 0, 1, 0, 1, 0, 0, 0, 1, 1,\n",
       "         0, 0, 0, 1, 0, 1, 1, 0])}"
      ]
     },
     "execution_count": 10,
     "metadata": {},
     "output_type": "execute_result"
    }
   ],
   "source": [
    "batch"
   ]
  },
  {
   "cell_type": "code",
   "execution_count": 6,
   "metadata": {},
   "outputs": [],
   "source": [
    "from text_classifier.data.uit_vsfc import UIT_VSFCTransformer"
   ]
  },
  {
   "cell_type": "code",
   "execution_count": 7,
   "metadata": {},
   "outputs": [],
   "source": [
    "from pathlib import Path"
   ]
  },
  {
   "cell_type": "code",
   "execution_count": 8,
   "metadata": {},
   "outputs": [],
   "source": [
    "p = Path(\"./datasets\")\n",
    "dataset_paths = {'train': p/'train.csv', 'dev': p/'dev.csv', 'test': p/'test.csv'}"
   ]
  },
  {
   "cell_type": "code",
   "execution_count": 9,
   "metadata": {},
   "outputs": [
    {
     "data": {
      "application/vnd.jupyter.widget-view+json": {
       "model_id": "714ca7122f354578b770ec8388079925",
       "version_major": 2,
       "version_minor": 0
      },
      "text/plain": [
       "Downloading:   0%|          | 0.00/557 [00:00<?, ?B/s]"
      ]
     },
     "metadata": {},
     "output_type": "display_data"
    },
    {
     "data": {
      "application/vnd.jupyter.widget-view+json": {
       "model_id": "c5ad3d6334b747eca13d8eb3d82598e9",
       "version_major": 2,
       "version_minor": 0
      },
      "text/plain": [
       "Downloading:   0%|          | 0.00/895k [00:00<?, ?B/s]"
      ]
     },
     "metadata": {},
     "output_type": "display_data"
    },
    {
     "data": {
      "application/vnd.jupyter.widget-view+json": {
       "model_id": "5ba672ed8e5f4f0f9d67d5970f1a964e",
       "version_major": 2,
       "version_minor": 0
      },
      "text/plain": [
       "Downloading:   0%|          | 0.00/1.14M [00:00<?, ?B/s]"
      ]
     },
     "metadata": {},
     "output_type": "display_data"
    },
    {
     "name": "stderr",
     "output_type": "stream",
     "text": [
      "Special tokens have been added in the vocabulary, make sure the associated word embeddings are fine-tuned or trained.\n"
     ]
    },
    {
     "name": "stdout",
     "output_type": "stream",
     "text": [
      "UIT-VSFC Dataset\n",
      "Num classes: 3\n",
      "Mapping: {'neg': 0, 'neutral': 1, 'pos': 2}\n",
      "Train/val/test sizes: (11426, 1583, 3166)\n"
     ]
    }
   ],
   "source": [
    "data = UIT_VSFCTransformer(dataset_paths=dataset_paths, model_checkpoint=\"vinai/phobert-base\")\n",
    "data.setup()\n",
    "print(data)"
   ]
  },
  {
   "cell_type": "code",
   "execution_count": 12,
   "metadata": {},
   "outputs": [
    {
     "data": {
      "text/plain": [
       "PosixPath('datasets/train.csv')"
      ]
     },
     "execution_count": 12,
     "metadata": {},
     "output_type": "execute_result"
    }
   ],
   "source": [
    "data.train"
   ]
  },
  {
   "cell_type": "code",
   "execution_count": null,
   "metadata": {},
   "outputs": [],
   "source": []
  }
 ],
 "metadata": {
  "kernelspec": {
   "display_name": "Python 3",
   "language": "python",
   "name": "python3"
  },
  "language_info": {
   "codemirror_mode": {
    "name": "ipython",
    "version": 3
   },
   "file_extension": ".py",
   "mimetype": "text/x-python",
   "name": "python",
   "nbconvert_exporter": "python",
   "pygments_lexer": "ipython3",
   "version": "3.6.13"
  }
 },
 "nbformat": 4,
 "nbformat_minor": 2
}
